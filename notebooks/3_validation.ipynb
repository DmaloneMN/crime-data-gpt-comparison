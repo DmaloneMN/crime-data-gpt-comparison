# Validate GPT vs real data
import matplotlib.pyplot as plt

# Plot real trends
monthly_trends = pd.read_csv("../data/processed/aggregated_crimes.csv")
monthly_trends.plot(x='Date', y='Count')
plt.savefig("../outputs/plots/monthly_trends.png")
