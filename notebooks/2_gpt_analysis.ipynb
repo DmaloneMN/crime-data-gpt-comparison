# Generate GPT insights
from openai import OpenAI
import os

client = OpenAI(api_key=os.getenv("OPENAI_API_KEY"))

prompt = """
Analyze this crime data:
- Top Crimes: {theft: 20000, battery: 15000}
- Monthly Trends: {Jan: 5000, Feb: 4500, ...}
"""

response = client.chat.completions.create(
    model="gpt-4",
    messages=[{"role": "user", "content": prompt}]
)

with open("../outputs/gpt_responses/insights.txt", "w") as f:
    f.write(response.choices[0].message.content)
