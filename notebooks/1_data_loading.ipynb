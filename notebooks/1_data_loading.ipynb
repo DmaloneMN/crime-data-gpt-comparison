# Load and preprocess data
import pandas as pd

df = pd.read_csv("../data/raw/Chicago_Crimes_2020.csv")
df['Date'] = pd.to_datetime(df['Date'])

# Save cleaned data
df.to_csv("../data/processed/aggregated_crimes.csv", index=False)
